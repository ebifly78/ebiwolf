{
 "cells": [
  {
   "cell_type": "code",
   "execution_count": 1,
   "metadata": {},
   "outputs": [],
   "source": [
    "import aiwolfpy"
   ]
  },
  {
   "cell_type": "code",
   "execution_count": 2,
   "metadata": {},
   "outputs": [],
   "source": [
    "from __future__ import print_function, division \n",
    "\n",
    "import os \n",
    "import sys\n",
    "\n",
    "import numpy as np\n",
    "import pandas as pd\n",
    "import sklearn.linear_model\n",
    "import math"
   ]
  },
  {
   "cell_type": "code",
   "execution_count": 3,
   "metadata": {},
   "outputs": [],
   "source": [
    "import aiwolfpy.ebifly"
   ]
  },
  {
   "cell_type": "code",
   "execution_count": 4,
   "metadata": {},
   "outputs": [],
   "source": [
    "predictor = aiwolfpy.ebifly.Predictor_5()"
   ]
  },
  {
   "cell_type": "code",
   "execution_count": 5,
   "metadata": {},
   "outputs": [],
   "source": [
    "def game_data_filter(df, day, phase='daily_initialize', agent=0):\n",
    "    \n",
    "    \n",
    "    y = np.zeros(60)\n",
    "    # werewolves, possessed\n",
    "    werewolves = []\n",
    "    for i in range(1, 6):\n",
    "        role = df[\"text\"][i - 1].split()[2]\n",
    "        if role == \"WEREWOLF\":\n",
    "            werewolves.append(i)\n",
    "        elif role == \"POSSESSED\":\n",
    "            possessed = i\n",
    "            \n",
    "    for i in range(60):\n",
    "        if predictor.case5.case60_df[\"agent_\"+str(possessed)][i] == 2:\n",
    "            if predictor.case5.case60_df[\"agent_\"+str(werewolves[0])][i] == 1:\n",
    "                if predictor.case5.case60_df[\"agent_\"+str(werewolves[1])][i] == 1:\n",
    "                    y[i] = 1\n",
    "    \n",
    "    # role\n",
    "    role = \"VILLAGER\"\n",
    "    if agent > 0:\n",
    "        role = df[\"text\"][agent - 1].split()[2]\n",
    "    \n",
    "    # filter by role\n",
    "    if role in [\"VILLAGER\", \"POSSESSED\"]:\n",
    "        df = df[df[\"type\"].isin([\"talk\", \"vote\", \"execute\", \"dead\"])]\n",
    "    elif role == \"MEDIUM\":\n",
    "        df = df[df[\"type\"].isin([\"talk\", \"vote\", \"execute\", \"dead\", \"identify\"])]\n",
    "    elif role == \"SEER\":\n",
    "        df = df[df[\"type\"].isin([\"talk\", \"vote\", \"execute\", \"dead\", \"divine\"])]\n",
    "    elif role == \"BODYGUARD\":\n",
    "        df = df[df[\"type\"].isin([\"talk\", \"vote\", \"execute\", \"dead\", \"guard\"])]\n",
    "    elif role == \"WEREWOLF\":\n",
    "        df = df[df[\"type\"].isin([\"talk\", \"vote\", \"execute\", \"dead\", \"whisper\", \"attack\", \"attack_vote\"])]\n",
    "        \n",
    "    # agent\n",
    "    if agent == 0:\n",
    "        agent = 1\n",
    "    \n",
    "    # filter by time\n",
    "    if phase == 'daily_initialize':\n",
    "        df = df[df[\"day\"] < day]\n",
    "    else:\n",
    "        df = df[(df[\"day\"] < day) | ((df[\"day\"] == day) & (df[\"type\"] == 'talk'))]\n",
    "    \n",
    "    predictor.initialize({\"agent\":agent, \"roleMap\":{str(agent):role}}, {})\n",
    "    predictor.update_features(df.reset_index())\n",
    "    predictor.update_df()\n",
    "    \n",
    "    return predictor.df_pred, y"
   ]
  },
  {
   "cell_type": "code",
   "execution_count": 6,
   "metadata": {},
   "outputs": [],
   "source": [
    "log_path = \"../log/gat2017log15/000/000.log\""
   ]
  },
  {
   "cell_type": "code",
   "execution_count": 7,
   "metadata": {},
   "outputs": [
    {
     "ename": "IndexError",
     "evalue": "list index out of range",
     "output_type": "error",
     "traceback": [
      "\u001b[0;31m---------------------------------------------------------------------------\u001b[0m",
      "\u001b[0;31mIndexError\u001b[0m                                Traceback (most recent call last)",
      "\u001b[0;32m<ipython-input-7-0260e7a33664>\u001b[0m in \u001b[0;36m<module>\u001b[0;34m\u001b[0m\n\u001b[0;32m----> 1\u001b[0;31m \u001b[0mx\u001b[0m\u001b[0;34m,\u001b[0m \u001b[0my\u001b[0m \u001b[0;34m=\u001b[0m \u001b[0mgame_data_filter\u001b[0m\u001b[0;34m(\u001b[0m\u001b[0maiwolfpy\u001b[0m\u001b[0;34m.\u001b[0m\u001b[0mread_log\u001b[0m\u001b[0;34m(\u001b[0m\u001b[0mlog_path\u001b[0m\u001b[0;34m)\u001b[0m\u001b[0;34m,\u001b[0m \u001b[0mday\u001b[0m\u001b[0;34m=\u001b[0m\u001b[0;36m3\u001b[0m\u001b[0;34m,\u001b[0m \u001b[0mphase\u001b[0m\u001b[0;34m=\u001b[0m\u001b[0;34m'vote'\u001b[0m\u001b[0;34m)\u001b[0m\u001b[0;34m\u001b[0m\u001b[0;34m\u001b[0m\u001b[0m\n\u001b[0m",
      "\u001b[0;32m<ipython-input-5-6ff982b0c05a>\u001b[0m in \u001b[0;36mgame_data_filter\u001b[0;34m(df, day, phase, agent)\u001b[0m\n\u001b[1;32m     15\u001b[0m         \u001b[0;32mif\u001b[0m \u001b[0mpredictor\u001b[0m\u001b[0;34m.\u001b[0m\u001b[0mcase5\u001b[0m\u001b[0;34m.\u001b[0m\u001b[0mcase60_df\u001b[0m\u001b[0;34m[\u001b[0m\u001b[0;34m\"agent_\"\u001b[0m\u001b[0;34m+\u001b[0m\u001b[0mstr\u001b[0m\u001b[0;34m(\u001b[0m\u001b[0mpossessed\u001b[0m\u001b[0;34m)\u001b[0m\u001b[0;34m]\u001b[0m\u001b[0;34m[\u001b[0m\u001b[0mi\u001b[0m\u001b[0;34m]\u001b[0m \u001b[0;34m==\u001b[0m \u001b[0;36m2\u001b[0m\u001b[0;34m:\u001b[0m\u001b[0;34m\u001b[0m\u001b[0;34m\u001b[0m\u001b[0m\n\u001b[1;32m     16\u001b[0m             \u001b[0;32mif\u001b[0m \u001b[0mpredictor\u001b[0m\u001b[0;34m.\u001b[0m\u001b[0mcase5\u001b[0m\u001b[0;34m.\u001b[0m\u001b[0mcase60_df\u001b[0m\u001b[0;34m[\u001b[0m\u001b[0;34m\"agent_\"\u001b[0m\u001b[0;34m+\u001b[0m\u001b[0mstr\u001b[0m\u001b[0;34m(\u001b[0m\u001b[0mwerewolves\u001b[0m\u001b[0;34m[\u001b[0m\u001b[0;36m0\u001b[0m\u001b[0;34m]\u001b[0m\u001b[0;34m)\u001b[0m\u001b[0;34m]\u001b[0m\u001b[0;34m[\u001b[0m\u001b[0mi\u001b[0m\u001b[0;34m]\u001b[0m \u001b[0;34m==\u001b[0m \u001b[0;36m1\u001b[0m\u001b[0;34m:\u001b[0m\u001b[0;34m\u001b[0m\u001b[0;34m\u001b[0m\u001b[0m\n\u001b[0;32m---> 17\u001b[0;31m                 \u001b[0;32mif\u001b[0m \u001b[0mpredictor\u001b[0m\u001b[0;34m.\u001b[0m\u001b[0mcase5\u001b[0m\u001b[0;34m.\u001b[0m\u001b[0mcase60_df\u001b[0m\u001b[0;34m[\u001b[0m\u001b[0;34m\"agent_\"\u001b[0m\u001b[0;34m+\u001b[0m\u001b[0mstr\u001b[0m\u001b[0;34m(\u001b[0m\u001b[0mwerewolves\u001b[0m\u001b[0;34m[\u001b[0m\u001b[0;36m1\u001b[0m\u001b[0;34m]\u001b[0m\u001b[0;34m)\u001b[0m\u001b[0;34m]\u001b[0m\u001b[0;34m[\u001b[0m\u001b[0mi\u001b[0m\u001b[0;34m]\u001b[0m \u001b[0;34m==\u001b[0m \u001b[0;36m1\u001b[0m\u001b[0;34m:\u001b[0m\u001b[0;34m\u001b[0m\u001b[0;34m\u001b[0m\u001b[0m\n\u001b[0m\u001b[1;32m     18\u001b[0m                     \u001b[0;32mif\u001b[0m \u001b[0mpredictor\u001b[0m\u001b[0;34m.\u001b[0m\u001b[0mcase5\u001b[0m\u001b[0;34m.\u001b[0m\u001b[0mcase60_df\u001b[0m\u001b[0;34m[\u001b[0m\u001b[0;34m\"agent_\"\u001b[0m\u001b[0;34m+\u001b[0m\u001b[0mstr\u001b[0m\u001b[0;34m(\u001b[0m\u001b[0mwerewolves\u001b[0m\u001b[0;34m[\u001b[0m\u001b[0;36m2\u001b[0m\u001b[0;34m]\u001b[0m\u001b[0;34m)\u001b[0m\u001b[0;34m]\u001b[0m\u001b[0;34m[\u001b[0m\u001b[0mi\u001b[0m\u001b[0;34m]\u001b[0m \u001b[0;34m==\u001b[0m \u001b[0;36m1\u001b[0m\u001b[0;34m:\u001b[0m\u001b[0;34m\u001b[0m\u001b[0;34m\u001b[0m\u001b[0m\n\u001b[1;32m     19\u001b[0m                         \u001b[0my\u001b[0m\u001b[0;34m[\u001b[0m\u001b[0mi\u001b[0m\u001b[0;34m]\u001b[0m \u001b[0;34m=\u001b[0m \u001b[0;36m1\u001b[0m\u001b[0;34m\u001b[0m\u001b[0;34m\u001b[0m\u001b[0m\n",
      "\u001b[0;31mIndexError\u001b[0m: list index out of range"
     ]
    }
   ],
   "source": [
    "x, y = game_data_filter(aiwolfpy.read_log(log_path), day=3, phase='vote')"
   ]
  },
  {
   "cell_type": "code",
   "execution_count": 8,
   "metadata": {},
   "outputs": [
    {
     "ename": "IndexError",
     "evalue": "list index out of range",
     "output_type": "error",
     "traceback": [
      "\u001b[0;31m---------------------------------------------------------------------------\u001b[0m",
      "\u001b[0;31mIndexError\u001b[0m                                Traceback (most recent call last)",
      "\u001b[0;32m<ipython-input-8-0260e7a33664>\u001b[0m in \u001b[0;36m<module>\u001b[0;34m\u001b[0m\n\u001b[0;32m----> 1\u001b[0;31m \u001b[0mx\u001b[0m\u001b[0;34m,\u001b[0m \u001b[0my\u001b[0m \u001b[0;34m=\u001b[0m \u001b[0mgame_data_filter\u001b[0m\u001b[0;34m(\u001b[0m\u001b[0maiwolfpy\u001b[0m\u001b[0;34m.\u001b[0m\u001b[0mread_log\u001b[0m\u001b[0;34m(\u001b[0m\u001b[0mlog_path\u001b[0m\u001b[0;34m)\u001b[0m\u001b[0;34m,\u001b[0m \u001b[0mday\u001b[0m\u001b[0;34m=\u001b[0m\u001b[0;36m3\u001b[0m\u001b[0;34m,\u001b[0m \u001b[0mphase\u001b[0m\u001b[0;34m=\u001b[0m\u001b[0;34m'vote'\u001b[0m\u001b[0;34m)\u001b[0m\u001b[0;34m\u001b[0m\u001b[0;34m\u001b[0m\u001b[0m\n\u001b[0m",
      "\u001b[0;32m<ipython-input-5-6ff982b0c05a>\u001b[0m in \u001b[0;36mgame_data_filter\u001b[0;34m(df, day, phase, agent)\u001b[0m\n\u001b[1;32m     15\u001b[0m         \u001b[0;32mif\u001b[0m \u001b[0mpredictor\u001b[0m\u001b[0;34m.\u001b[0m\u001b[0mcase5\u001b[0m\u001b[0;34m.\u001b[0m\u001b[0mcase60_df\u001b[0m\u001b[0;34m[\u001b[0m\u001b[0;34m\"agent_\"\u001b[0m\u001b[0;34m+\u001b[0m\u001b[0mstr\u001b[0m\u001b[0;34m(\u001b[0m\u001b[0mpossessed\u001b[0m\u001b[0;34m)\u001b[0m\u001b[0;34m]\u001b[0m\u001b[0;34m[\u001b[0m\u001b[0mi\u001b[0m\u001b[0;34m]\u001b[0m \u001b[0;34m==\u001b[0m \u001b[0;36m2\u001b[0m\u001b[0;34m:\u001b[0m\u001b[0;34m\u001b[0m\u001b[0;34m\u001b[0m\u001b[0m\n\u001b[1;32m     16\u001b[0m             \u001b[0;32mif\u001b[0m \u001b[0mpredictor\u001b[0m\u001b[0;34m.\u001b[0m\u001b[0mcase5\u001b[0m\u001b[0;34m.\u001b[0m\u001b[0mcase60_df\u001b[0m\u001b[0;34m[\u001b[0m\u001b[0;34m\"agent_\"\u001b[0m\u001b[0;34m+\u001b[0m\u001b[0mstr\u001b[0m\u001b[0;34m(\u001b[0m\u001b[0mwerewolves\u001b[0m\u001b[0;34m[\u001b[0m\u001b[0;36m0\u001b[0m\u001b[0;34m]\u001b[0m\u001b[0;34m)\u001b[0m\u001b[0;34m]\u001b[0m\u001b[0;34m[\u001b[0m\u001b[0mi\u001b[0m\u001b[0;34m]\u001b[0m \u001b[0;34m==\u001b[0m \u001b[0;36m1\u001b[0m\u001b[0;34m:\u001b[0m\u001b[0;34m\u001b[0m\u001b[0;34m\u001b[0m\u001b[0m\n\u001b[0;32m---> 17\u001b[0;31m                 \u001b[0;32mif\u001b[0m \u001b[0mpredictor\u001b[0m\u001b[0;34m.\u001b[0m\u001b[0mcase5\u001b[0m\u001b[0;34m.\u001b[0m\u001b[0mcase60_df\u001b[0m\u001b[0;34m[\u001b[0m\u001b[0;34m\"agent_\"\u001b[0m\u001b[0;34m+\u001b[0m\u001b[0mstr\u001b[0m\u001b[0;34m(\u001b[0m\u001b[0mwerewolves\u001b[0m\u001b[0;34m[\u001b[0m\u001b[0;36m1\u001b[0m\u001b[0;34m]\u001b[0m\u001b[0;34m)\u001b[0m\u001b[0;34m]\u001b[0m\u001b[0;34m[\u001b[0m\u001b[0mi\u001b[0m\u001b[0;34m]\u001b[0m \u001b[0;34m==\u001b[0m \u001b[0;36m1\u001b[0m\u001b[0;34m:\u001b[0m\u001b[0;34m\u001b[0m\u001b[0;34m\u001b[0m\u001b[0m\n\u001b[0m\u001b[1;32m     18\u001b[0m                     \u001b[0;32mif\u001b[0m \u001b[0mpredictor\u001b[0m\u001b[0;34m.\u001b[0m\u001b[0mcase5\u001b[0m\u001b[0;34m.\u001b[0m\u001b[0mcase60_df\u001b[0m\u001b[0;34m[\u001b[0m\u001b[0;34m\"agent_\"\u001b[0m\u001b[0;34m+\u001b[0m\u001b[0mstr\u001b[0m\u001b[0;34m(\u001b[0m\u001b[0mwerewolves\u001b[0m\u001b[0;34m[\u001b[0m\u001b[0;36m2\u001b[0m\u001b[0;34m]\u001b[0m\u001b[0;34m)\u001b[0m\u001b[0;34m]\u001b[0m\u001b[0;34m[\u001b[0m\u001b[0mi\u001b[0m\u001b[0;34m]\u001b[0m \u001b[0;34m==\u001b[0m \u001b[0;36m1\u001b[0m\u001b[0;34m:\u001b[0m\u001b[0;34m\u001b[0m\u001b[0;34m\u001b[0m\u001b[0m\n\u001b[1;32m     19\u001b[0m                         \u001b[0my\u001b[0m\u001b[0;34m[\u001b[0m\u001b[0mi\u001b[0m\u001b[0;34m]\u001b[0m \u001b[0;34m=\u001b[0m \u001b[0;36m1\u001b[0m\u001b[0;34m\u001b[0m\u001b[0;34m\u001b[0m\u001b[0m\n",
      "\u001b[0;31mIndexError\u001b[0m: list index out of range"
     ]
    }
   ],
   "source": [
    "x, y = game_data_filter(aiwolfpy.read_log(log_path), day=3, phase='vote')"
   ]
  },
  {
   "cell_type": "code",
   "execution_count": null,
   "metadata": {},
   "outputs": [],
   "source": []
  },
  {
   "cell_type": "code",
   "execution_count": 9,
   "metadata": {},
   "outputs": [
    {
     "ename": "IndexError",
     "evalue": "list index out of range",
     "output_type": "error",
     "traceback": [
      "\u001b[0;31m---------------------------------------------------------------------------\u001b[0m",
      "\u001b[0;31mIndexError\u001b[0m                                Traceback (most recent call last)",
      "\u001b[0;32m<ipython-input-9-0260e7a33664>\u001b[0m in \u001b[0;36m<module>\u001b[0;34m\u001b[0m\n\u001b[0;32m----> 1\u001b[0;31m \u001b[0mx\u001b[0m\u001b[0;34m,\u001b[0m \u001b[0my\u001b[0m \u001b[0;34m=\u001b[0m \u001b[0mgame_data_filter\u001b[0m\u001b[0;34m(\u001b[0m\u001b[0maiwolfpy\u001b[0m\u001b[0;34m.\u001b[0m\u001b[0mread_log\u001b[0m\u001b[0;34m(\u001b[0m\u001b[0mlog_path\u001b[0m\u001b[0;34m)\u001b[0m\u001b[0;34m,\u001b[0m \u001b[0mday\u001b[0m\u001b[0;34m=\u001b[0m\u001b[0;36m3\u001b[0m\u001b[0;34m,\u001b[0m \u001b[0mphase\u001b[0m\u001b[0;34m=\u001b[0m\u001b[0;34m'vote'\u001b[0m\u001b[0;34m)\u001b[0m\u001b[0;34m\u001b[0m\u001b[0;34m\u001b[0m\u001b[0m\n\u001b[0m",
      "\u001b[0;32m<ipython-input-5-6ff982b0c05a>\u001b[0m in \u001b[0;36mgame_data_filter\u001b[0;34m(df, day, phase, agent)\u001b[0m\n\u001b[1;32m     15\u001b[0m         \u001b[0;32mif\u001b[0m \u001b[0mpredictor\u001b[0m\u001b[0;34m.\u001b[0m\u001b[0mcase5\u001b[0m\u001b[0;34m.\u001b[0m\u001b[0mcase60_df\u001b[0m\u001b[0;34m[\u001b[0m\u001b[0;34m\"agent_\"\u001b[0m\u001b[0;34m+\u001b[0m\u001b[0mstr\u001b[0m\u001b[0;34m(\u001b[0m\u001b[0mpossessed\u001b[0m\u001b[0;34m)\u001b[0m\u001b[0;34m]\u001b[0m\u001b[0;34m[\u001b[0m\u001b[0mi\u001b[0m\u001b[0;34m]\u001b[0m \u001b[0;34m==\u001b[0m \u001b[0;36m2\u001b[0m\u001b[0;34m:\u001b[0m\u001b[0;34m\u001b[0m\u001b[0;34m\u001b[0m\u001b[0m\n\u001b[1;32m     16\u001b[0m             \u001b[0;32mif\u001b[0m \u001b[0mpredictor\u001b[0m\u001b[0;34m.\u001b[0m\u001b[0mcase5\u001b[0m\u001b[0;34m.\u001b[0m\u001b[0mcase60_df\u001b[0m\u001b[0;34m[\u001b[0m\u001b[0;34m\"agent_\"\u001b[0m\u001b[0;34m+\u001b[0m\u001b[0mstr\u001b[0m\u001b[0;34m(\u001b[0m\u001b[0mwerewolves\u001b[0m\u001b[0;34m[\u001b[0m\u001b[0;36m0\u001b[0m\u001b[0;34m]\u001b[0m\u001b[0;34m)\u001b[0m\u001b[0;34m]\u001b[0m\u001b[0;34m[\u001b[0m\u001b[0mi\u001b[0m\u001b[0;34m]\u001b[0m \u001b[0;34m==\u001b[0m \u001b[0;36m1\u001b[0m\u001b[0;34m:\u001b[0m\u001b[0;34m\u001b[0m\u001b[0;34m\u001b[0m\u001b[0m\n\u001b[0;32m---> 17\u001b[0;31m                 \u001b[0;32mif\u001b[0m \u001b[0mpredictor\u001b[0m\u001b[0;34m.\u001b[0m\u001b[0mcase5\u001b[0m\u001b[0;34m.\u001b[0m\u001b[0mcase60_df\u001b[0m\u001b[0;34m[\u001b[0m\u001b[0;34m\"agent_\"\u001b[0m\u001b[0;34m+\u001b[0m\u001b[0mstr\u001b[0m\u001b[0;34m(\u001b[0m\u001b[0mwerewolves\u001b[0m\u001b[0;34m[\u001b[0m\u001b[0;36m1\u001b[0m\u001b[0;34m]\u001b[0m\u001b[0;34m)\u001b[0m\u001b[0;34m]\u001b[0m\u001b[0;34m[\u001b[0m\u001b[0mi\u001b[0m\u001b[0;34m]\u001b[0m \u001b[0;34m==\u001b[0m \u001b[0;36m1\u001b[0m\u001b[0;34m:\u001b[0m\u001b[0;34m\u001b[0m\u001b[0;34m\u001b[0m\u001b[0m\n\u001b[0m\u001b[1;32m     18\u001b[0m                     \u001b[0;32mif\u001b[0m \u001b[0mpredictor\u001b[0m\u001b[0;34m.\u001b[0m\u001b[0mcase5\u001b[0m\u001b[0;34m.\u001b[0m\u001b[0mcase60_df\u001b[0m\u001b[0;34m[\u001b[0m\u001b[0;34m\"agent_\"\u001b[0m\u001b[0;34m+\u001b[0m\u001b[0mstr\u001b[0m\u001b[0;34m(\u001b[0m\u001b[0mwerewolves\u001b[0m\u001b[0;34m[\u001b[0m\u001b[0;36m2\u001b[0m\u001b[0;34m]\u001b[0m\u001b[0;34m)\u001b[0m\u001b[0;34m]\u001b[0m\u001b[0;34m[\u001b[0m\u001b[0mi\u001b[0m\u001b[0;34m]\u001b[0m \u001b[0;34m==\u001b[0m \u001b[0;36m1\u001b[0m\u001b[0;34m:\u001b[0m\u001b[0;34m\u001b[0m\u001b[0;34m\u001b[0m\u001b[0m\n\u001b[1;32m     19\u001b[0m                         \u001b[0my\u001b[0m\u001b[0;34m[\u001b[0m\u001b[0mi\u001b[0m\u001b[0;34m]\u001b[0m \u001b[0;34m=\u001b[0m \u001b[0;36m1\u001b[0m\u001b[0;34m\u001b[0m\u001b[0;34m\u001b[0m\u001b[0m\n",
      "\u001b[0;31mIndexError\u001b[0m: list index out of range"
     ]
    }
   ],
   "source": [
    "x, y = game_data_filter(aiwolfpy.read_log(log_path), day=3, phase='vote')"
   ]
  },
  {
   "cell_type": "code",
   "execution_count": 10,
   "metadata": {},
   "outputs": [],
   "source": [
    "def game_data_filter(df, day, phase='daily_initialize', agent=0):\n",
    "    \n",
    "    \n",
    "    y = np.zeros(60)\n",
    "    # werewolves, possessed\n",
    "    werewolves = []\n",
    "    for i in range(1, 6):\n",
    "        role = df[\"text\"][i - 1].split()[2]\n",
    "        if role == \"WEREWOLF\":\n",
    "            werewolves.append(i)\n",
    "        elif role == \"POSSESSED\":\n",
    "            possessed = i\n",
    "            \n",
    "    for i in range(60):\n",
    "        if predictor.case5.case60_df[\"agent_\"+str(possessed)][i] == 2:\n",
    "            if predictor.case5.case60_df[\"agent_\"+str(werewolves[0])][i] == 1:\n",
    "                if predictor.case5.case60_df[\"agent_\"+str(werewolves[1])][i] == 1:\n",
    "                    y[i] = 1\n",
    "    \n",
    "    # role\n",
    "    role = \"VILLAGER\"\n",
    "    if agent > 0:\n",
    "        role = df[\"text\"][agent - 1].split()[2]\n",
    "    \n",
    "    # filter by role\n",
    "    if role in [\"VILLAGER\", \"POSSESSED\"]:\n",
    "        df = df[df[\"type\"].isin([\"talk\", \"vote\", \"execute\", \"dead\"])]\n",
    "    elif role == \"MEDIUM\":\n",
    "        df = df[df[\"type\"].isin([\"talk\", \"vote\", \"execute\", \"dead\", \"identify\"])]\n",
    "    elif role == \"SEER\":\n",
    "        df = df[df[\"type\"].isin([\"talk\", \"vote\", \"execute\", \"dead\", \"divine\"])]\n",
    "    elif role == \"BODYGUARD\":\n",
    "        df = df[df[\"type\"].isin([\"talk\", \"vote\", \"execute\", \"dead\", \"guard\"])]\n",
    "    elif role == \"WEREWOLF\":\n",
    "        df = df[df[\"type\"].isin([\"talk\", \"vote\", \"execute\", \"dead\", \"whisper\", \"attack\", \"attack_vote\"])]\n",
    "        \n",
    "    # agent\n",
    "    if agent == 0:\n",
    "        agent = 1\n",
    "        \n",
    "    # filter by time\n",
    "    if phase == 'daily_initialize':\n",
    "        df = df[df[\"day\"] < day]\n",
    "    else:\n",
    "        df = df[(df[\"day\"] < day) | ((df[\"day\"] == day) & (df[\"type\"] == 'talk'))]\n",
    "    \n",
    "    predictor.initialize({\"agent\":agent, \"roleMap\":{str(agent):role}}, {})\n",
    "    predictor.update_features(df.reset_index())\n",
    "    predictor.update_df()\n",
    "    \n",
    "    return predictor.df_pred, y"
   ]
  },
  {
   "cell_type": "code",
   "execution_count": 12,
   "metadata": {},
   "outputs": [
    {
     "ename": "IndexError",
     "evalue": "list index out of range",
     "output_type": "error",
     "traceback": [
      "\u001b[0;31m---------------------------------------------------------------------------\u001b[0m",
      "\u001b[0;31mIndexError\u001b[0m                                Traceback (most recent call last)",
      "\u001b[0;32m<ipython-input-12-0260e7a33664>\u001b[0m in \u001b[0;36m<module>\u001b[0;34m\u001b[0m\n\u001b[0;32m----> 1\u001b[0;31m \u001b[0mx\u001b[0m\u001b[0;34m,\u001b[0m \u001b[0my\u001b[0m \u001b[0;34m=\u001b[0m \u001b[0mgame_data_filter\u001b[0m\u001b[0;34m(\u001b[0m\u001b[0maiwolfpy\u001b[0m\u001b[0;34m.\u001b[0m\u001b[0mread_log\u001b[0m\u001b[0;34m(\u001b[0m\u001b[0mlog_path\u001b[0m\u001b[0;34m)\u001b[0m\u001b[0;34m,\u001b[0m \u001b[0mday\u001b[0m\u001b[0;34m=\u001b[0m\u001b[0;36m3\u001b[0m\u001b[0;34m,\u001b[0m \u001b[0mphase\u001b[0m\u001b[0;34m=\u001b[0m\u001b[0;34m'vote'\u001b[0m\u001b[0;34m)\u001b[0m\u001b[0;34m\u001b[0m\u001b[0;34m\u001b[0m\u001b[0m\n\u001b[0m",
      "\u001b[0;32m<ipython-input-10-b2b1cab04038>\u001b[0m in \u001b[0;36mgame_data_filter\u001b[0;34m(df, day, phase, agent)\u001b[0m\n\u001b[1;32m     15\u001b[0m         \u001b[0;32mif\u001b[0m \u001b[0mpredictor\u001b[0m\u001b[0;34m.\u001b[0m\u001b[0mcase5\u001b[0m\u001b[0;34m.\u001b[0m\u001b[0mcase60_df\u001b[0m\u001b[0;34m[\u001b[0m\u001b[0;34m\"agent_\"\u001b[0m\u001b[0;34m+\u001b[0m\u001b[0mstr\u001b[0m\u001b[0;34m(\u001b[0m\u001b[0mpossessed\u001b[0m\u001b[0;34m)\u001b[0m\u001b[0;34m]\u001b[0m\u001b[0;34m[\u001b[0m\u001b[0mi\u001b[0m\u001b[0;34m]\u001b[0m \u001b[0;34m==\u001b[0m \u001b[0;36m2\u001b[0m\u001b[0;34m:\u001b[0m\u001b[0;34m\u001b[0m\u001b[0;34m\u001b[0m\u001b[0m\n\u001b[1;32m     16\u001b[0m             \u001b[0;32mif\u001b[0m \u001b[0mpredictor\u001b[0m\u001b[0;34m.\u001b[0m\u001b[0mcase5\u001b[0m\u001b[0;34m.\u001b[0m\u001b[0mcase60_df\u001b[0m\u001b[0;34m[\u001b[0m\u001b[0;34m\"agent_\"\u001b[0m\u001b[0;34m+\u001b[0m\u001b[0mstr\u001b[0m\u001b[0;34m(\u001b[0m\u001b[0mwerewolves\u001b[0m\u001b[0;34m[\u001b[0m\u001b[0;36m0\u001b[0m\u001b[0;34m]\u001b[0m\u001b[0;34m)\u001b[0m\u001b[0;34m]\u001b[0m\u001b[0;34m[\u001b[0m\u001b[0mi\u001b[0m\u001b[0;34m]\u001b[0m \u001b[0;34m==\u001b[0m \u001b[0;36m1\u001b[0m\u001b[0;34m:\u001b[0m\u001b[0;34m\u001b[0m\u001b[0;34m\u001b[0m\u001b[0m\n\u001b[0;32m---> 17\u001b[0;31m                 \u001b[0;32mif\u001b[0m \u001b[0mpredictor\u001b[0m\u001b[0;34m.\u001b[0m\u001b[0mcase5\u001b[0m\u001b[0;34m.\u001b[0m\u001b[0mcase60_df\u001b[0m\u001b[0;34m[\u001b[0m\u001b[0;34m\"agent_\"\u001b[0m\u001b[0;34m+\u001b[0m\u001b[0mstr\u001b[0m\u001b[0;34m(\u001b[0m\u001b[0mwerewolves\u001b[0m\u001b[0;34m[\u001b[0m\u001b[0;36m1\u001b[0m\u001b[0;34m]\u001b[0m\u001b[0;34m)\u001b[0m\u001b[0;34m]\u001b[0m\u001b[0;34m[\u001b[0m\u001b[0mi\u001b[0m\u001b[0;34m]\u001b[0m \u001b[0;34m==\u001b[0m \u001b[0;36m1\u001b[0m\u001b[0;34m:\u001b[0m\u001b[0;34m\u001b[0m\u001b[0;34m\u001b[0m\u001b[0m\n\u001b[0m\u001b[1;32m     18\u001b[0m                     \u001b[0my\u001b[0m\u001b[0;34m[\u001b[0m\u001b[0mi\u001b[0m\u001b[0;34m]\u001b[0m \u001b[0;34m=\u001b[0m \u001b[0;36m1\u001b[0m\u001b[0;34m\u001b[0m\u001b[0;34m\u001b[0m\u001b[0m\n\u001b[1;32m     19\u001b[0m \u001b[0;34m\u001b[0m\u001b[0m\n",
      "\u001b[0;31mIndexError\u001b[0m: list index out of range"
     ]
    }
   ],
   "source": [
    "x, y = game_data_filter(aiwolfpy.read_log(log_path), day=3, phase='vote')"
   ]
  },
  {
   "cell_type": "code",
   "execution_count": 13,
   "metadata": {},
   "outputs": [],
   "source": [
    "def game_data_filter(df, day, phase='daily_initialize', agent=0):\n",
    "    \n",
    "    \n",
    "    y = np.zeros(60)\n",
    "    # werewolves, possessed\n",
    "    werewolves = []\n",
    "    for i in range(1, 6):\n",
    "        role = df[\"text\"][i - 1].split()[2]\n",
    "        if role == \"WEREWOLF\":\n",
    "            werewolves.append(i)\n",
    "        elif role == \"POSSESSED\":\n",
    "            possessed = i\n",
    "            \n",
    "    for i in range(60):\n",
    "        if predictor.case5.case60_df[\"agent_\"+str(possessed)][i] == 2:\n",
    "            if predictor.case5.case60_df[\"agent_\"+str(werewolves[0])][i] == 1:\n",
    "                y[i] = 1\n",
    "    \n",
    "    # role\n",
    "    role = \"VILLAGER\"\n",
    "    if agent > 0:\n",
    "        role = df[\"text\"][agent - 1].split()[2]\n",
    "    \n",
    "    # filter by role\n",
    "    if role in [\"VILLAGER\", \"POSSESSED\"]:\n",
    "        df = df[df[\"type\"].isin([\"talk\", \"vote\", \"execute\", \"dead\"])]\n",
    "    elif role == \"SEER\":\n",
    "        df = df[df[\"type\"].isin([\"talk\", \"vote\", \"execute\", \"dead\", \"divine\"])]\n",
    "    elif role == \"WEREWOLF\":\n",
    "        df = df[df[\"type\"].isin([\"talk\", \"vote\", \"execute\", \"dead\", \"whisper\", \"attack\", \"attack_vote\"])]\n",
    "        \n",
    "    # agent\n",
    "    if agent == 0:\n",
    "        agent = 1\n",
    "        \n",
    "    # filter by time\n",
    "    if phase == 'daily_initialize':\n",
    "        df = df[df[\"day\"] < day]\n",
    "    else:\n",
    "        df = df[(df[\"day\"] < day) | ((df[\"day\"] == day) & (df[\"type\"] == 'talk'))]\n",
    "    \n",
    "    predictor.initialize({\"agent\":agent, \"roleMap\":{str(agent):role}}, {})\n",
    "    predictor.update_features(df.reset_index())\n",
    "    predictor.update_df()\n",
    "    \n",
    "    return predictor.df_pred, y"
   ]
  },
  {
   "cell_type": "code",
   "execution_count": 14,
   "metadata": {},
   "outputs": [
    {
     "ename": "KeyError",
     "evalue": "'agentIdx'",
     "output_type": "error",
     "traceback": [
      "\u001b[0;31m---------------------------------------------------------------------------\u001b[0m",
      "\u001b[0;31mKeyError\u001b[0m                                  Traceback (most recent call last)",
      "\u001b[0;32m<ipython-input-14-0260e7a33664>\u001b[0m in \u001b[0;36m<module>\u001b[0;34m\u001b[0m\n\u001b[0;32m----> 1\u001b[0;31m \u001b[0mx\u001b[0m\u001b[0;34m,\u001b[0m \u001b[0my\u001b[0m \u001b[0;34m=\u001b[0m \u001b[0mgame_data_filter\u001b[0m\u001b[0;34m(\u001b[0m\u001b[0maiwolfpy\u001b[0m\u001b[0;34m.\u001b[0m\u001b[0mread_log\u001b[0m\u001b[0;34m(\u001b[0m\u001b[0mlog_path\u001b[0m\u001b[0;34m)\u001b[0m\u001b[0;34m,\u001b[0m \u001b[0mday\u001b[0m\u001b[0;34m=\u001b[0m\u001b[0;36m3\u001b[0m\u001b[0;34m,\u001b[0m \u001b[0mphase\u001b[0m\u001b[0;34m=\u001b[0m\u001b[0;34m'vote'\u001b[0m\u001b[0;34m)\u001b[0m\u001b[0;34m\u001b[0m\u001b[0;34m\u001b[0m\u001b[0m\n\u001b[0m",
      "\u001b[0;32m<ipython-input-13-f9542926ccc7>\u001b[0m in \u001b[0;36mgame_data_filter\u001b[0;34m(df, day, phase, agent)\u001b[0m\n\u001b[1;32m     44\u001b[0m         \u001b[0mdf\u001b[0m \u001b[0;34m=\u001b[0m \u001b[0mdf\u001b[0m\u001b[0;34m[\u001b[0m\u001b[0;34m(\u001b[0m\u001b[0mdf\u001b[0m\u001b[0;34m[\u001b[0m\u001b[0;34m\"day\"\u001b[0m\u001b[0;34m]\u001b[0m \u001b[0;34m<\u001b[0m \u001b[0mday\u001b[0m\u001b[0;34m)\u001b[0m \u001b[0;34m|\u001b[0m \u001b[0;34m(\u001b[0m\u001b[0;34m(\u001b[0m\u001b[0mdf\u001b[0m\u001b[0;34m[\u001b[0m\u001b[0;34m\"day\"\u001b[0m\u001b[0;34m]\u001b[0m \u001b[0;34m==\u001b[0m \u001b[0mday\u001b[0m\u001b[0;34m)\u001b[0m \u001b[0;34m&\u001b[0m \u001b[0;34m(\u001b[0m\u001b[0mdf\u001b[0m\u001b[0;34m[\u001b[0m\u001b[0;34m\"type\"\u001b[0m\u001b[0;34m]\u001b[0m \u001b[0;34m==\u001b[0m \u001b[0;34m'talk'\u001b[0m\u001b[0;34m)\u001b[0m\u001b[0;34m)\u001b[0m\u001b[0;34m]\u001b[0m\u001b[0;34m\u001b[0m\u001b[0;34m\u001b[0m\u001b[0m\n\u001b[1;32m     45\u001b[0m \u001b[0;34m\u001b[0m\u001b[0m\n\u001b[0;32m---> 46\u001b[0;31m     \u001b[0mpredictor\u001b[0m\u001b[0;34m.\u001b[0m\u001b[0minitialize\u001b[0m\u001b[0;34m(\u001b[0m\u001b[0;34m{\u001b[0m\u001b[0;34m\"agent\"\u001b[0m\u001b[0;34m:\u001b[0m\u001b[0magent\u001b[0m\u001b[0;34m,\u001b[0m \u001b[0;34m\"roleMap\"\u001b[0m\u001b[0;34m:\u001b[0m\u001b[0;34m{\u001b[0m\u001b[0mstr\u001b[0m\u001b[0;34m(\u001b[0m\u001b[0magent\u001b[0m\u001b[0;34m)\u001b[0m\u001b[0;34m:\u001b[0m\u001b[0mrole\u001b[0m\u001b[0;34m}\u001b[0m\u001b[0;34m}\u001b[0m\u001b[0;34m,\u001b[0m \u001b[0;34m{\u001b[0m\u001b[0;34m}\u001b[0m\u001b[0;34m)\u001b[0m\u001b[0;34m\u001b[0m\u001b[0;34m\u001b[0m\u001b[0m\n\u001b[0m\u001b[1;32m     47\u001b[0m     \u001b[0mpredictor\u001b[0m\u001b[0;34m.\u001b[0m\u001b[0mupdate_features\u001b[0m\u001b[0;34m(\u001b[0m\u001b[0mdf\u001b[0m\u001b[0;34m.\u001b[0m\u001b[0mreset_index\u001b[0m\u001b[0;34m(\u001b[0m\u001b[0;34m)\u001b[0m\u001b[0;34m)\u001b[0m\u001b[0;34m\u001b[0m\u001b[0;34m\u001b[0m\u001b[0m\n\u001b[1;32m     48\u001b[0m     \u001b[0mpredictor\u001b[0m\u001b[0;34m.\u001b[0m\u001b[0mupdate_df\u001b[0m\u001b[0;34m(\u001b[0m\u001b[0;34m)\u001b[0m\u001b[0;34m\u001b[0m\u001b[0;34m\u001b[0m\u001b[0m\n",
      "\u001b[0;32m~/ebiwolf/dev/AIWolfPy/aiwolfpy/ebifly/predictor_sample5.py\u001b[0m in \u001b[0;36minitialize\u001b[0;34m(self, base_info, game_setting)\u001b[0m\n\u001b[1;32m     59\u001b[0m         \u001b[0;31m# initialize watashi_xxx\u001b[0m\u001b[0;34m\u001b[0m\u001b[0;34m\u001b[0m\u001b[0;34m\u001b[0m\u001b[0m\n\u001b[1;32m     60\u001b[0m         \u001b[0mself\u001b[0m\u001b[0;34m.\u001b[0m\u001b[0mwatshi_xxx\u001b[0m \u001b[0;34m=\u001b[0m \u001b[0mnp\u001b[0m\u001b[0;34m.\u001b[0m\u001b[0mones\u001b[0m\u001b[0;34m(\u001b[0m\u001b[0;34m(\u001b[0m\u001b[0;36m60\u001b[0m\u001b[0;34m,\u001b[0m \u001b[0;36m4\u001b[0m\u001b[0;34m)\u001b[0m\u001b[0;34m)\u001b[0m\u001b[0;34m\u001b[0m\u001b[0;34m\u001b[0m\u001b[0m\n\u001b[0;32m---> 61\u001b[0;31m         \u001b[0mxv\u001b[0m \u001b[0;34m=\u001b[0m \u001b[0mself\u001b[0m\u001b[0;34m.\u001b[0m\u001b[0mcase5\u001b[0m\u001b[0;34m.\u001b[0m\u001b[0mget_case60_df\u001b[0m\u001b[0;34m(\u001b[0m\u001b[0;34m)\u001b[0m\u001b[0;34m[\u001b[0m\u001b[0;34m\"agent_\"\u001b[0m\u001b[0;34m+\u001b[0m\u001b[0mstr\u001b[0m\u001b[0;34m(\u001b[0m\u001b[0mself\u001b[0m\u001b[0;34m.\u001b[0m\u001b[0mbase_info\u001b[0m\u001b[0;34m[\u001b[0m\u001b[0;34m'agentIdx'\u001b[0m\u001b[0;34m]\u001b[0m\u001b[0;34m)\u001b[0m\u001b[0;34m]\u001b[0m\u001b[0;34m.\u001b[0m\u001b[0mvalues\u001b[0m\u001b[0;34m\u001b[0m\u001b[0;34m\u001b[0m\u001b[0m\n\u001b[0m\u001b[1;32m     62\u001b[0m         \u001b[0mself\u001b[0m\u001b[0;34m.\u001b[0m\u001b[0mwatshi_xxx\u001b[0m\u001b[0;34m[\u001b[0m\u001b[0mxv\u001b[0m \u001b[0;34m!=\u001b[0m \u001b[0;36m0\u001b[0m\u001b[0;34m,\u001b[0m \u001b[0;36m0\u001b[0m\u001b[0;34m]\u001b[0m \u001b[0;34m=\u001b[0m \u001b[0;36m0.0\u001b[0m\u001b[0;34m\u001b[0m\u001b[0;34m\u001b[0m\u001b[0m\n\u001b[1;32m     63\u001b[0m         \u001b[0mself\u001b[0m\u001b[0;34m.\u001b[0m\u001b[0mwatshi_xxx\u001b[0m\u001b[0;34m[\u001b[0m\u001b[0mxv\u001b[0m \u001b[0;34m!=\u001b[0m \u001b[0;36m1\u001b[0m\u001b[0;34m,\u001b[0m \u001b[0;36m1\u001b[0m\u001b[0;34m]\u001b[0m \u001b[0;34m=\u001b[0m \u001b[0;36m0.0\u001b[0m\u001b[0;34m\u001b[0m\u001b[0;34m\u001b[0m\u001b[0m\n",
      "\u001b[0;31mKeyError\u001b[0m: 'agentIdx'"
     ]
    }
   ],
   "source": [
    "x, y = game_data_filter(aiwolfpy.read_log(log_path), day=3, phase='vote')"
   ]
  },
  {
   "cell_type": "code",
   "execution_count": null,
   "metadata": {},
   "outputs": [],
   "source": []
  }
 ],
 "metadata": {
  "kernelspec": {
   "display_name": "Python 3",
   "language": "python",
   "name": "python3"
  },
  "language_info": {
   "codemirror_mode": {
    "name": "ipython",
    "version": 3
   },
   "file_extension": ".py",
   "mimetype": "text/x-python",
   "name": "python",
   "nbconvert_exporter": "python",
   "pygments_lexer": "ipython3",
   "version": "3.6.8"
  }
 },
 "nbformat": 4,
 "nbformat_minor": 2
}
